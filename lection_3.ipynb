{
 "cells": [
  {
   "metadata": {
    "ExecuteTime": {
     "end_time": "2025-09-26T13:51:25.746940342Z",
     "start_time": "2025-09-26T13:51:25.342839405Z"
    }
   },
   "cell_type": "code",
   "source": [
    "class coche {\n",
    "    var width: Int = 20\n",
    "    var height: Int = 40\n",
    "    var length: Int = 100\n",
    "    fun printSize() {\n",
    "        println(\"Width: $width cm \" +\n",
    "                \"Length: $length cm \" +\n",
    "                \"Height: $height cm \")\n",
    "    }\n",
    "}\n",
    "\n"
   ],
   "outputs": [],
   "execution_count": 2
  },
  {
   "metadata": {
    "ExecuteTime": {
     "end_time": "2025-09-26T13:53:19.970950628Z",
     "start_time": "2025-09-26T13:53:19.851216182Z"
    }
   },
   "cell_type": "code",
   "source": [
    "\n",
    "fun buildCar() {\n",
    "    val micoche = coche()\n",
    "    micoche.printSize()\n",
    "}\n",
    "\n",
    "fun main() {\n",
    "    buildCar()\n",
    "}\n"
   ],
   "outputs": [],
   "execution_count": 7
  }
 ],
 "metadata": {
  "kernelspec": {
   "display_name": "Kotlin",
   "language": "kotlin",
   "name": "kotlin"
  },
  "language_info": {
   "name": "kotlin",
   "version": "2.2.20-Beta2",
   "mimetype": "text/x-kotlin",
   "file_extension": ".kt",
   "pygments_lexer": "kotlin",
   "codemirror_mode": "text/x-kotlin",
   "nbconvert_exporter": ""
  }
 },
 "nbformat": 4,
 "nbformat_minor": 0
}
