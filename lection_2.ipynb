{
 "cells": [
  {
   "cell_type": "code",
   "metadata": {
    "collapsed": true,
    "ExecuteTime": {
     "end_time": "2025-09-17T15:29:33.103176201Z",
     "start_time": "2025-09-17T15:29:32.471499554Z"
    }
   },
   "source": [
    "val temperature = 10\n",
    "val isHot = if (temperature > 50) true else false\n",
    "println(isHot)\n"
   ],
   "outputs": [
    {
     "name": "stdout",
     "output_type": "stream",
     "text": [
      "false\n"
     ]
    }
   ],
   "execution_count": 1
  },
  {
   "metadata": {
    "ExecuteTime": {
     "end_time": "2025-09-17T16:29:02.562711855Z",
     "start_time": "2025-09-17T16:29:02.242930181Z"
    }
   },
   "cell_type": "code",
   "source": [
    "\n",
    "fun feedTheFish() {\n",
    "    for (i in 1..10){\n",
    "        val day = randomDay()\n",
    "        val food = fishFood(day)\n",
    "\n",
    "        println (\"$i ->Today is $day and the fish eat $food\")\n",
    "    }\n",
    "\n",
    "}\n",
    "fun fishFood (day : String) : String {\n",
    "    var food = \"\"\n",
    "    when (day) {\n",
    "        \"Monday\" -> food = \"flakes\"\n",
    "        \"Tuesday\" -> food = \"pellets\"\n",
    "        \"Wednesday\" -> food = \"redworms\"\n",
    "        \"Thursday\" -> food = \"granules\"\n",
    "        \"Friday\" -> food = \"mosquitoes\"\n",
    "        \"Saturday\" -> food = \"lettuce\"\n",
    "        \"Sunday\" -> food = \"plankton\"\n",
    "    }\n",
    "    return food\n",
    "}\n",
    "\n",
    "fun randomDay(): String {\n",
    "    val day = arrayOf(\"Monday\",\"Tuesday\",\"Wednesday\",\"Thursday\",\"Friday\",\"Saturday\",\"Sunday\")\n",
    "    return day[(0..6).random()]\n",
    "}\n",
    "\n",
    "feedTheFish()\n"
   ],
   "outputs": [
    {
     "name": "stdout",
     "output_type": "stream",
     "text": [
      "1 ->Today is Saturday and the fish eat lettuce\n",
      "2 ->Today is Sunday and the fish eat plankton\n",
      "3 ->Today is Saturday and the fish eat lettuce\n",
      "4 ->Today is Tuesday and the fish eat pellets\n",
      "5 ->Today is Sunday and the fish eat plankton\n",
      "6 ->Today is Sunday and the fish eat plankton\n",
      "7 ->Today is Wednesday and the fish eat redworms\n",
      "8 ->Today is Sunday and the fish eat plankton\n",
      "9 ->Today is Tuesday and the fish eat pellets\n",
      "10 ->Today is Monday and the fish eat flakes\n"
     ]
    }
   ],
   "execution_count": 10
  },
  {
   "metadata": {},
   "cell_type": "code",
   "outputs": [],
   "execution_count": null,
   "source": ""
  }
 ],
 "metadata": {
  "kernelspec": {
   "display_name": "Kotlin",
   "language": "kotlin",
   "name": "kotlin"
  },
  "language_info": {
   "name": "kotlin",
   "version": "2.2.20-Beta2",
   "mimetype": "text/x-kotlin",
   "file_extension": ".kt",
   "pygments_lexer": "kotlin",
   "codemirror_mode": "text/x-kotlin",
   "nbconvert_exporter": ""
  }
 },
 "nbformat": 4,
 "nbformat_minor": 0
}
