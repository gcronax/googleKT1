{
 "cells": [
  {
   "cell_type": "code",
   "metadata": {
    "collapsed": true,
    "ExecuteTime": {
     "end_time": "2025-09-12T14:00:21.787552649Z",
     "start_time": "2025-09-12T14:00:21.458594844Z"
    }
   },
   "source": [
    "fun printHello() {\n",
    "    println (\"Hello World\")\n",
    "}\n",
    "\n",
    "printHello()\n"
   ],
   "outputs": [
    {
     "name": "stdout",
     "output_type": "stream",
     "text": [
      "Hello World\n"
     ]
    }
   ],
   "execution_count": 3
  },
  {
   "metadata": {
    "ExecuteTime": {
     "end_time": "2025-09-12T14:21:19.813728685Z",
     "start_time": "2025-09-12T14:21:19.539399669Z"
    }
   },
   "cell_type": "code",
   "source": [
    "fun crearMultiplicador(factor: Int): (Int) -> Int {\n",
    "    return { numero -> numero * factor }\n",
    "}\n",
    "val porTres = crearMultiplicador(3)\n",
    "println(porTres(5))"
   ],
   "outputs": [
    {
     "name": "stdout",
     "output_type": "stream",
     "text": [
      "15\n"
     ]
    }
   ],
   "execution_count": 7
  },
  {
   "metadata": {
    "ExecuteTime": {
     "end_time": "2025-09-12T14:25:38.826663433Z",
     "start_time": "2025-09-12T14:25:38.506875885Z"
    }
   },
   "cell_type": "code",
   "source": [
    "var a: Int =4\n",
    "var b=8\n",
    "if (a>b){\n",
    "    println(\"a mayor\")\n",
    "}else{\n",
    "    println(\"b mayor\")\n",
    "}"
   ],
   "outputs": [
    {
     "name": "stdout",
     "output_type": "stream",
     "text": [
      "b mayor\n"
     ]
    }
   ],
   "execution_count": 8
  },
  {
   "metadata": {},
   "cell_type": "code",
   "outputs": [],
   "execution_count": null,
   "source": ""
  },
  {
   "metadata": {
    "ExecuteTime": {
     "end_time": "2025-09-12T14:27:12.379732070Z",
     "start_time": "2025-09-12T14:27:12.078323458Z"
    }
   },
   "cell_type": "code",
   "source": [
    "val fish = 50\n",
    "if (fish in 1..100) {\n",
    "    println(fish)\n",
    "}\n"
   ],
   "outputs": [
    {
     "name": "stdout",
     "output_type": "stream",
     "text": [
      "50\n"
     ]
    }
   ],
   "execution_count": 9
  },
  {
   "metadata": {
    "ExecuteTime": {
     "end_time": "2025-09-12T14:54:59.277786813Z",
     "start_time": "2025-09-12T14:54:58.981188581Z"
    }
   },
   "cell_type": "code",
   "source": [
    "val school = arrayOf(\"shark\", \"salmon\", \"minnow\")\n",
    "for (element in school) {\n",
    "    println(element + \" \")\n",
    "}\n",
    "for ((i, element) in school.withIndex()) {\n",
    "    println(\"Item at $i is $element\\n\")\n",
    "}\n"
   ],
   "outputs": [
    {
     "name": "stdout",
     "output_type": "stream",
     "text": [
      "shark \n",
      "salmon \n",
      "minnow \n",
      "Item at 0 is shark\n",
      "\n",
      "Item at 1 is salmon\n",
      "\n",
      "Item at 2 is minnow\n",
      "\n"
     ]
    }
   ],
   "execution_count": 13
  },
  {
   "metadata": {
    "ExecuteTime": {
     "end_time": "2025-09-17T15:05:29.103829661Z",
     "start_time": "2025-09-17T15:05:28.864752332Z"
    }
   },
   "cell_type": "code",
   "source": [
    "val myList = mutableListOf(\"tuna\", \"salmon\", \"shark\")\n",
    "if(myList.remove(\"shark\")){\n",
    "    println(myList)\n",
    "}"
   ],
   "outputs": [
    {
     "name": "stdout",
     "output_type": "stream",
     "text": [
      "[tuna, salmon]\n"
     ]
    }
   ],
   "execution_count": 3
  },
  {
   "metadata": {
    "ExecuteTime": {
     "end_time": "2025-09-17T15:17:13.553780847Z",
     "start_time": "2025-09-17T15:17:13.333426258Z"
    }
   },
   "cell_type": "code",
   "source": [
    "for(i in 'z' downTo 'a' step 2){\n",
    "    print(i)\n",
    "}"
   ],
   "outputs": [
    {
     "name": "stdout",
     "output_type": "stream",
     "text": [
      "zxvtrpnljhfdb"
     ]
    }
   ],
   "execution_count": 6
  }
 ],
 "metadata": {
  "kernelspec": {
   "display_name": "Kotlin",
   "language": "kotlin",
   "name": "kotlin"
  },
  "language_info": {
   "name": "kotlin",
   "version": "2.2.20-Beta2",
   "mimetype": "text/x-kotlin",
   "file_extension": ".kt",
   "pygments_lexer": "kotlin",
   "codemirror_mode": "text/x-kotlin",
   "nbconvert_exporter": ""
  }
 },
 "nbformat": 4,
 "nbformat_minor": 0
}
